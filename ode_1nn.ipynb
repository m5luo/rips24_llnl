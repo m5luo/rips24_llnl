{
 "cells": [
  {
   "cell_type": "markdown",
   "metadata": {},
   "source": [
    "## Solve ODEs with Neural Network\n",
    "*July 8th, 2024*\n",
    "\n",
    "[Problem Description](https://www.mathworks.com/help/deeplearning/ug/solve-odes-using-a-neural-network.html) (Mathworks)"
   ]
  },
  {
   "cell_type": "code",
   "execution_count": 3,
   "metadata": {},
   "outputs": [],
   "source": [
    "import math\n",
    "import torch\n",
    "import numpy as np\n",
    "from torch import nn\n",
    "import torch.optim as optim\n",
    "import matplotlib.pyplot as plt\n",
    "from torch.utils.data import DataLoader\n",
    "from torch.optim.lr_scheduler import ConstantLR\n",
    "\n",
    "# Learning Parameters\n",
    "batch_size = 100                # Amount of Training observations per batch\n",
    "ic_coeff = 7                    # Initial condition Coefficient\n",
    "momentum = 0.9                  # Accelerate optimization during training\n",
    "num_epochs = 15                 # Number of Epochs for training phase\n",
    "\n",
    "initial_learn_rate = 0.05       # Learning rate employed at the beginning of training\n",
    "learn_rate_drop_period = 5      # Period of epochs needed to update the learning parameter\n",
    "learn_rate_drop_factor = 0.5    # Multiplies learning rate each period"
   ]
  },
  {
   "cell_type": "code",
   "execution_count": 4,
   "metadata": {},
   "outputs": [
    {
     "name": "stdout",
     "output_type": "stream",
     "text": [
      "Using mps device\n"
     ]
    }
   ],
   "source": [
    "# Get Device for Training\n",
    "device = (\n",
    "    \"cuda\"\n",
    "    if torch.cuda.is_available()\n",
    "    else \"mps\"\n",
    "    if torch.backends.mps.is_available()\n",
    "    else \"cpu\"\n",
    ")\n",
    "print(f\"Using {device} device\")"
   ]
  },
  {
   "cell_type": "code",
   "execution_count": 5,
   "metadata": {},
   "outputs": [],
   "source": [
    "# Neural Network Architecture\n",
    "class ODE_NeuralNetwork(nn.Module):\n",
    "    def __init__(self, hidden_size, output_size=1, input_size=1) -> None:\n",
    "        super().__init__()\n",
    "        self.net = nn.Sequential(\n",
    "            nn.Linear(input_size, hidden_size),\n",
    "            nn.Sigmoid(),\n",
    "            nn.Linear(hidden_size, output_size),\n",
    "            nn.Sigmoid()\n",
    "        )\n",
    "\n",
    "    def forward(self, x):\n",
    "        out = self.net(x)\n",
    "        return out"
   ]
  },
  {
   "cell_type": "code",
   "execution_count": null,
   "metadata": {},
   "outputs": [],
   "source": []
  },
  {
   "cell_type": "code",
   "execution_count": 6,
   "metadata": {},
   "outputs": [
    {
     "data": {
      "text/plain": [
       "ODE_NeuralNetwork(\n",
       "  (net): Sequential(\n",
       "    (0): Linear(in_features=1, out_features=10, bias=True)\n",
       "    (1): Sigmoid()\n",
       "    (2): Linear(in_features=10, out_features=1, bias=True)\n",
       "    (3): Sigmoid()\n",
       "  )\n",
       ")"
      ]
     },
     "execution_count": 6,
     "metadata": {},
     "output_type": "execute_result"
    }
   ],
   "source": [
    "# Instance of neural network and Display network structure\n",
    "model = ODE_NeuralNetwork(hidden_size=10).to(device)\n",
    "model"
   ]
  },
  {
   "cell_type": "code",
   "execution_count": 5,
   "metadata": {},
   "outputs": [],
   "source": [
    "# Training Dataset\n",
    "X_train = np.linspace(0, 2, 10000, dtype=np.float32)\n",
    "Xtrain_tensor = torch.from_numpy(X_train).reshape(len(X_train), 1).to(device)\n",
    "Xtrain_tensor.requires_grad_(True)\n",
    "\n",
    "train_dataloader = DataLoader(Xtrain_tensor, batch_size=batch_size, shuffle=True)\n",
    "\n",
    "# Test Dataset\n",
    "X_test = np.linspace(0, 4, 1000, dtype=np.float32)\n",
    "Xtest_tensor = torch.from_numpy(X_test).reshape(len(X_test), 1).to(device)"
   ]
  },
  {
   "cell_type": "code",
   "execution_count": 26,
   "metadata": {},
   "outputs": [],
   "source": [
    "# Loss function and Optimizer definition\n",
    "criterion = nn.MSELoss()\n",
    "optimizer = optim.SGD(model.parameters(), lr=initial_learn_rate, momentum=momentum)\n",
    "scheduler = ConstantLR(optimizer, 0.5)"
   ]
  },
  {
   "cell_type": "code",
   "execution_count": 27,
   "metadata": {},
   "outputs": [
    {
     "name": "stdout",
     "output_type": "stream",
     "text": [
      "odict_items([])\n"
     ]
    }
   ],
   "source": [
    "print(model._parameters.items())"
   ]
  },
  {
   "cell_type": "code",
   "execution_count": 7,
   "metadata": {},
   "outputs": [
    {
     "name": "stdout",
     "output_type": "stream",
     "text": [
      "Epoch 1, Loss: 39.876240123063326\n",
      "Epoch 2, Loss: 2.4165391232818365\n",
      "Epoch 3, Loss: 2.8761438690125942\n",
      "Epoch 4, Loss: 3.117297148332\n",
      "Epoch 5, Loss: 3.1259804721921682\n",
      "Epoch 6, Loss: 3.0810232777148485\n",
      "Epoch 7, Loss: 3.019277287647128\n",
      "Epoch 8, Loss: 2.9591525588184595\n",
      "Epoch 9, Loss: 2.9265467766672373\n",
      "Epoch 10, Loss: 2.892811443656683\n",
      "Epoch 11, Loss: 2.842962769791484\n",
      "Epoch 12, Loss: 2.83679623529315\n",
      "Epoch 13, Loss: 2.8173733185976744\n",
      "Epoch 14, Loss: 2.7780688665807247\n",
      "Epoch 15, Loss: 2.770585970953107\n"
     ]
    }
   ],
   "source": [
    "# Training Loop\n",
    "for epoch in range(num_epochs):\n",
    "    running_loss = 0.0\n",
    "    for batch in train_dataloader:\n",
    "        # Forward pass\n",
    "        y = model(batch)\n",
    "\n",
    "        # Calculate the derivative of the forward pass w.r.t the batch input (x)\n",
    "        dy = torch.autograd.grad(y,\n",
    "                                batch,\n",
    "                                grad_outputs=torch.ones_like(y),\n",
    "                                retain_graph=True)[0]\n",
    "        \n",
    "        # Define differential equation and calculate the loss\n",
    "        loss_DE = dy + 2 * y * batch\n",
    "\n",
    "        # Define the initial condition loss\n",
    "        loss_IC = model(torch.tensor([[0.0]]).to(device)) - 1\n",
    "\n",
    "        loss = criterion(loss_DE, torch.zeros(batch_size, 1).to(device)) + ic_coeff * criterion(loss_IC, torch.zeros(1, 1).to(device))\n",
    "\n",
    "        # Backward pass and weight update\n",
    "        optimizer.zero_grad()\n",
    "        loss.backward()\n",
    "        optimizer.step()\n",
    "\n",
    "        # Updates the loss per batch\n",
    "        running_loss += loss.item()\n",
    "    \n",
    "    # Update the optimizer's learning rate whenever the epoch is a multiple of 5\n",
    "    if (epoch % learn_rate_drop_period == 0):\n",
    "        scheduler.step()\n",
    "\n",
    "    print(f\"Epoch {epoch + 1} | Loss: {running_loss}\")"
   ]
  },
  {
   "cell_type": "code",
   "execution_count": 8,
   "metadata": {},
   "outputs": [],
   "source": [
    "# Once the model is trained, we perform predictions through the test data\n",
    "preds = []\n",
    "with torch.no_grad():\n",
    "    for input in Xtest_tensor:\n",
    "        outputs = model(input)\n",
    "        preds.append(outputs.cpu().detach().numpy()[0])"
   ]
  },
  {
   "cell_type": "code",
   "execution_count": 21,
   "metadata": {},
   "outputs": [
    {
     "data": {
      "image/png": "[encoded data removed]",
      "text/plain": [
       "<Figure size 640x480 with 1 Axes>"
      ]
     },
     "metadata": {},
     "output_type": "display_data"
    }
   ],
   "source": [
    "x = np.linspace(1, 1000, num=1000, dtype=np.int32)\n",
    "y_analytical = [np.exp(-math.pow(x/250, 2)) for x in range(1, 1001)]\n",
    "\n",
    "plt.plot(x, preds, \"tab:orange\", label=\"NN Solution\")\n",
    "plt.plot(x, y_analytical, \"b\", label=\"Analytical Solution\")\n",
    "plt.legend(loc=\"upper right\")\n",
    "plt.show()"
   ]
  }
 ],
 "metadata": {
  "kernelspec": {
   "display_name": "llnl",
   "language": "python",
   "name": "python3"
  },
  "language_info": {
   "codemirror_mode": {
    "name": "ipython",
    "version": 3
   },
   "file_extension": ".py",
   "mimetype": "text/x-python",
   "name": "python",
   "nbconvert_exporter": "python",
   "pygments_lexer": "ipython3",
   "version": "3.12.4"
  }
 },
 "nbformat": 4,
 "nbformat_minor": 2
}
