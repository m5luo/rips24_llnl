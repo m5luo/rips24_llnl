{
 "cells": [
  {
   "cell_type": "markdown",
   "metadata": {},
   "source": [
    "## Matrix Approximation using Neural Networks\n",
    "*July 10th, 2024*"
   ]
  },
  {
   "cell_type": "code",
   "execution_count": 1,
   "metadata": {},
   "outputs": [],
   "source": [
    "import torch\n",
    "import numpy as np\n",
    "from torch import nn\n",
    "import torch.nn.functional as F\n",
    "from torch.utils.data import DataLoader\n",
    "\n",
    "# Learning Parameters\n",
    "num_epochs = 10                 # Number of Epochs for training phase\n",
    "batch_size = 100                # Amount of Training observations per batch\n",
    "momentum = 0.9                  # Accelerate optimization during training\n",
    "\n",
    "initial_learn_rate = 0.25       # Learning rate employed at the beginning of training\n",
    "learn_rate_drop_factor = 0.5    # Multiplies learning rate each period\n",
    "learn_rate_drop_period = 5      # Period of epochs needed to update the learning parameter\n",
    "\n",
    "# Training / Test Datasets Dimensions\n",
    "train_vectors_num = 3000\n",
    "test_vectors_num = 100\n",
    "\n",
    "# Network input / output dimensions\n",
    "input_features = 11             # Vectors dimensions for Training and Test dataset\n",
    "output_features = 7"
   ]
  },
  {
   "cell_type": "code",
   "execution_count": 2,
   "metadata": {},
   "outputs": [
    {
     "name": "stdout",
     "output_type": "stream",
     "text": [
      "Using cuda device\n"
     ]
    }
   ],
   "source": [
    "device = (\n",
    "    \"cuda\"\n",
    "    if torch.cuda.is_available()\n",
    "    else \"mps\"\n",
    "    if torch.backends.mps.is_available()\n",
    "    else \"cpu\"\n",
    ")\n",
    "print(f\"Using {device} device\") "
   ]
  },
  {
   "cell_type": "markdown",
   "metadata": {},
   "source": [
    "### Neural Network Architecture"
   ]
  },
  {
   "cell_type": "markdown",
   "metadata": {},
   "source": [
    "Where our $\\Phi$ is a $(10 \\times 10)$ matrix"
   ]
  },
  {
   "cell_type": "code",
   "execution_count": 3,
   "metadata": {},
   "outputs": [
    {
     "data": {
      "text/plain": [
       "NeuralNetwork(\n",
       "  (flatten): Flatten(start_dim=1, end_dim=-1)\n",
       "  (net): Sequential(\n",
       "    (0): Linear(in_features=11, out_features=100, bias=True)\n",
       "    (1): Tanh()\n",
       "    (2): Linear(in_features=100, out_features=100, bias=True)\n",
       "    (3): Tanh()\n",
       "    (4): Linear(in_features=100, out_features=7, bias=True)\n",
       "  )\n",
       ")"
      ]
     },
     "execution_count": 3,
     "metadata": {},
     "output_type": "execute_result"
    }
   ],
   "source": [
    "class NeuralNetwork(nn.Module):\n",
    "    def __init__(self, hidden_size, output_size, input_size):\n",
    "        super().__init__()\n",
    "        self.flatten = nn.Flatten()\n",
    "        self.net = nn.Sequential(\n",
    "            nn.Linear(input_size, hidden_size),\n",
    "            nn.Tanh(),\n",
    "            nn.Linear(hidden_size, hidden_size),\n",
    "            nn.Tanh(),\n",
    "            nn.Linear(hidden_size, output_features)\n",
    "        )\n",
    "\n",
    "    def forward(self, x):\n",
    "        x = self.flatten(x)\n",
    "        logits = self.net(x)\n",
    "        return F.pad(logits, (2, 2))\n",
    "    \n",
    "model = NeuralNetwork(hidden_size=100, output_size=output_features, input_size=input_features).to(device)\n",
    "model"
   ]
  },
  {
   "cell_type": "code",
   "execution_count": 4,
   "metadata": {},
   "outputs": [
    {
     "data": {
      "text/plain": [
       "tensor([[ 5.,  6.,  7.,  8.,  9., 10.,  0.,  0.,  0.,  0.,  0.],\n",
       "        [ 4.,  5.,  6.,  7.,  8.,  9., 10.,  0.,  0.,  0.,  0.],\n",
       "        [ 3.,  4.,  5.,  6.,  7.,  8.,  9., 10.,  0.,  0.,  0.],\n",
       "        [ 2.,  3.,  4.,  5.,  6.,  7.,  8.,  9., 10.,  0.,  0.],\n",
       "        [ 1.,  2.,  3.,  4.,  5.,  6.,  7.,  8.,  9., 10.,  0.],\n",
       "        [ 0.,  1.,  2.,  3.,  4.,  5.,  6.,  7.,  8.,  9., 10.],\n",
       "        [ 0.,  0.,  1.,  2.,  3.,  4.,  5.,  6.,  7.,  8.,  9.],\n",
       "        [ 0.,  0.,  0.,  1.,  2.,  3.,  4.,  5.,  6.,  7.,  8.],\n",
       "        [ 0.,  0.,  0.,  0.,  1.,  2.,  3.,  4.,  5.,  6.,  7.],\n",
       "        [ 0.,  0.,  0.,  0.,  0.,  1.,  2.,  3.,  4.,  5.,  6.],\n",
       "        [ 0.,  0.,  0.,  0.,  0.,  0.,  1.,  2.,  3.,  4.,  5.]],\n",
       "       device='cuda:0')"
      ]
     },
     "execution_count": 4,
     "metadata": {},
     "output_type": "execute_result"
    }
   ],
   "source": [
    "def row_to_matrix(row):\n",
    "    n = np.size(row)\n",
    "    k = n // 2\n",
    "    M = np.zeros((n, n))\n",
    "    for i in range(n):\n",
    "        M[i,max(0,i - k):min(n, k + 1 + i)] = row[max(0, n - (k + i + 1)):min(n + k - i, n)]\n",
    "    return M\n",
    "\n",
    "def torch_row_to_matrix(row):\n",
    "    n = torch.Tensor.size(row, 0)\n",
    "    k = n // 2\n",
    "    M = torch.zeros((n, n))\n",
    "    for i in range(n):\n",
    "        M[i,max(0,i - k):min(n, k + 1 + i)] = row[max(0, n - (k + i + 1)):min(n + k - i, n)]\n",
    "    return M.to(device)\n",
    "\n",
    "w = row_to_matrix(np.array([0, 1, 2, 3, 4, 5, 6, 7, 8, 9, 10]))\n",
    "v = torch_row_to_matrix(torch.tensor([0, 1, 2, 3, 4, 5, 6, 7, 8, 9, 10], dtype=torch.float32).to(device))\n",
    "v"
   ]
  },
  {
   "cell_type": "code",
   "execution_count": 5,
   "metadata": {},
   "outputs": [],
   "source": [
    "# Training Dataset\n",
    "Xs = np.array(list(map(lambda _: np.random.rand(input_features) * input_features, range(train_vectors_num))))\n",
    "Xs = torch.tensor(Xs, dtype=torch.float32).to(device)\n",
    "train_dataloader = DataLoader(Xs, batch_size=batch_size, shuffle=True)\n",
    "\n",
    "# Testing Vectors\n",
    "ys = np.array([np.random.rand(input_features) * np.random.rand(1) * input_features for _ in range(test_vectors_num)])\n",
    "ys = torch.tensor(ys, dtype = torch.float32).to(device)"
   ]
  },
  {
   "cell_type": "code",
   "execution_count": 6,
   "metadata": {},
   "outputs": [],
   "source": [
    "# Custom Loss Function\n",
    "class Spectral_Loss(nn.Module):\n",
    "    def __init__(self, ys):\n",
    "        super(Spectral_Loss, self).__init__()\n",
    "        self.ys = ys\n",
    "\n",
    "    def forward(self, target, v):\n",
    "        X = torch_row_to_matrix(target)\n",
    "        A = torch_row_to_matrix(v)\n",
    "        return sum([(torch.linalg.norm(torch.matmul(X, yk) - torch.matmul(A, yk)) ** 2) / (torch.linalg.norm(yk) ** 2) for yk in self.ys]) / test_vectors_num * train_vectors_num\n",
    "\n",
    "    def _backward_hook(self, module, grad_input, grad_output):\n",
    "        pass\n",
    "\n",
    "loss_fn = Spectral_Loss(ys)\n",
    "optimizer = torch.optim.Adagrad(model.parameters(), lr = initial_learn_rate)"
   ]
  },
  {
   "cell_type": "code",
   "execution_count": 7,
   "metadata": {},
   "outputs": [
    {
     "name": "stdout",
     "output_type": "stream",
     "text": [
      "Epoch 1 Loss: 3.335092544555664\n",
      "Epoch 2 Loss: 3.834090232849121\n",
      "Epoch 3 Loss: 3.7282156944274902\n",
      "Epoch 4 Loss: 3.411004066467285\n",
      "Epoch 5 Loss: 3.9240288734436035\n",
      "Epoch 6 Loss: 3.490097999572754\n",
      "Epoch 7 Loss: 3.589089870452881\n",
      "Epoch 8 Loss: 3.698190212249756\n",
      "Epoch 9 Loss: 3.679845094680786\n",
      "Epoch 10 Loss: 3.5490472316741943\n"
     ]
    }
   ],
   "source": [
    "# Training Loop\n",
    "for epoch in range(1, num_epochs + 1):\n",
    "    running_loss = 0.0\n",
    "    for batch in train_dataloader:\n",
    "        vs = model(batch)\n",
    "\n",
    "        # Calculate loss\n",
    "        loss = sum(loss_fn(batch[i], vs[i]) for i in range(batch_size)) \n",
    "        \n",
    "        # Backward pass and weight update\n",
    "        optimizer.zero_grad()\n",
    "        loss.backward()\n",
    "        optimizer.step()\n",
    "\n",
    "        # Updates the loss per batch\n",
    "        running_loss += loss.item()\n",
    "    \n",
    "    # if (epoch % 10 == 0):\n",
    "    print(f\"Epoch {epoch} Loss: {loss.item()}\")"
   ]
  },
  {
   "cell_type": "code",
   "execution_count": 8,
   "metadata": {},
   "outputs": [
    {
     "data": {
      "text/plain": [
       "tensor([[4., 2., 1., 0., 0., 0., 0., 0., 0., 0., 0.],\n",
       "        [2., 4., 2., 1., 0., 0., 0., 0., 0., 0., 0.],\n",
       "        [1., 2., 4., 2., 1., 0., 0., 0., 0., 0., 0.],\n",
       "        [0., 1., 2., 4., 2., 1., 0., 0., 0., 0., 0.],\n",
       "        [0., 0., 1., 2., 4., 2., 1., 0., 0., 0., 0.],\n",
       "        [0., 0., 0., 1., 2., 4., 2., 1., 0., 0., 0.],\n",
       "        [0., 0., 0., 0., 1., 2., 4., 2., 1., 0., 0.],\n",
       "        [0., 0., 0., 0., 0., 1., 2., 4., 2., 1., 0.],\n",
       "        [0., 0., 0., 0., 0., 0., 1., 2., 4., 2., 1.],\n",
       "        [0., 0., 0., 0., 0., 0., 0., 1., 2., 4., 2.],\n",
       "        [0., 0., 0., 0., 0., 0., 0., 0., 1., 2., 4.]], device='cuda:0')"
      ]
     },
     "execution_count": 8,
     "metadata": {},
     "output_type": "execute_result"
    }
   ],
   "source": [
    "Xtest = torch.tensor(np.array([0, 0, 0, 1, 2, 4, 2, 1, 0, 0, 0]), dtype=torch.float32)\n",
    "torch_row_to_matrix(Xtest)"
   ]
  },
  {
   "cell_type": "code",
   "execution_count": 9,
   "metadata": {},
   "outputs": [
    {
     "name": "stdout",
     "output_type": "stream",
     "text": [
      "0.3322944641113281\n"
     ]
    }
   ],
   "source": [
    "# Test Iteration\n",
    "with torch.no_grad():\n",
    "    a = model(Xtest.reshape(1, input_features).to(device))[0]\n",
    "    loss = loss_fn(Xtest, a)\n",
    "    print(loss.item())"
   ]
  },
  {
   "cell_type": "code",
   "execution_count": 12,
   "metadata": {},
   "outputs": [
    {
     "name": "stdout",
     "output_type": "stream",
     "text": [
      "tensor(48.8121, device='cuda:0')\n"
     ]
    }
   ],
   "source": [
    "print(torch.linalg.matrix_norm(torch_row_to_matrix(Xtest) - torch_row_to_matrix(a)))"
   ]
  }
 ],
 "metadata": {
  "kernelspec": {
   "display_name": "llnl",
   "language": "python",
   "name": "python3"
  },
  "language_info": {
   "codemirror_mode": {
    "name": "ipython",
    "version": 3
   },
   "file_extension": ".py",
   "mimetype": "text/x-python",
   "name": "python",
   "nbconvert_exporter": "python",
   "pygments_lexer": "ipython3",
   "version": "3.12.4"
  }
 },
 "nbformat": 4,
 "nbformat_minor": 2
}
