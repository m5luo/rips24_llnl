{
 "cells": [
  {
   "cell_type": "markdown",
   "metadata": {},
   "source": [
    "## Solve ODEs using Neural Networks\n",
    "*July 9th, 2024*\n",
    "\n",
    "[Problem Description](https://datascience.stackexchange.com/questions/45015/solving-an-ode-using-neural-networks-via-tensorflow) (Data Science Stack Exchange)"
   ]
  },
  {
   "cell_type": "code",
   "execution_count": 1,
   "metadata": {},
   "outputs": [],
   "source": [
    "import math\n",
    "import torch\n",
    "import numpy as np\n",
    "from torch import nn\n",
    "import torch.optim as optim\n",
    "import matplotlib.pyplot as plt\n",
    "from torch.utils.data import DataLoader\n",
    "from torch.optim.lr_scheduler import ConstantLR\n",
    "\n",
    "# Learning Parameters\n",
    "batch_size = 20                 # Amount of Training observations per batch\n",
    "ic_coeff = 7                    # Initial condition Coefficient\n",
    "momentum = 0.9                  # Accelerate optimization during training\n",
    "num_epochs = 20                 # Number of Epochs for training phase\n",
    "initial_learn_rate = 0.003      # Learning rate employed at the beginning of training"
   ]
  },
  {
   "cell_type": "code",
   "execution_count": 2,
   "metadata": {},
   "outputs": [
    {
     "name": "stdout",
     "output_type": "stream",
     "text": [
      "Using mps device\n"
     ]
    }
   ],
   "source": [
    "# Get Device for Training\n",
    "device = (\n",
    "    \"cuda\"\n",
    "    if torch.cuda.is_available()\n",
    "    else \"mps\"\n",
    "    if torch.backends.mps.is_available()\n",
    "    else \"cpu\"\n",
    ")\n",
    "print(f\"Using {device} device\")"
   ]
  },
  {
   "cell_type": "code",
   "execution_count": 3,
   "metadata": {},
   "outputs": [],
   "source": [
    "# Neural Network Architecture\n",
    "class ODE_NeuralNetwork(nn.Module):\n",
    "    def __init__(self, hidden_size, output_size=1, input_size=1) -> None:\n",
    "        super().__init__()\n",
    "        self.net = nn.Sequential(\n",
    "            nn.Linear(input_size, hidden_size),\n",
    "            nn.Sigmoid(),\n",
    "            nn.Linear(hidden_size, hidden_size),\n",
    "            nn.Sigmoid(),\n",
    "            nn.Linear(hidden_size, output_size),\n",
    "            nn.Sigmoid()\n",
    "        )\n",
    "\n",
    "    def forward(self, x):\n",
    "        out = self.net(x)\n",
    "        return out"
   ]
  },
  {
   "cell_type": "code",
   "execution_count": 4,
   "metadata": {},
   "outputs": [
    {
     "data": {
      "text/plain": [
       "ODE_NeuralNetwork(\n",
       "  (net): Sequential(\n",
       "    (0): Linear(in_features=1, out_features=200, bias=True)\n",
       "    (1): Sigmoid()\n",
       "    (2): Linear(in_features=200, out_features=200, bias=True)\n",
       "    (3): Sigmoid()\n",
       "    (4): Linear(in_features=200, out_features=1, bias=True)\n",
       "    (5): Sigmoid()\n",
       "  )\n",
       ")"
      ]
     },
     "execution_count": 4,
     "metadata": {},
     "output_type": "execute_result"
    }
   ],
   "source": [
    "model = ODE_NeuralNetwork(hidden_size=200).to(device)\n",
    "model"
   ]
  },
  {
   "cell_type": "code",
   "execution_count": 5,
   "metadata": {},
   "outputs": [],
   "source": [
    "# Create the arrays x and y, where x is a discretization of the domain (a,b) and y is the source term f(x)\n",
    "N = 10000; N_test = 1000; a = 0; b = 2\n",
    "X_train = np.arange(a, b, (b - a) / N, dtype=np.float32).reshape((N, 1))\n",
    "y = np.zeros(N)\n",
    "\n",
    "# Boundary conditions\n",
    "A = 1.0 ; B = 0.0\n",
    "\n",
    "# Training Dataset\n",
    "Xtrain_tensor = torch.from_numpy(X_train).reshape(len(X_train), 1).to(device)\n",
    "Xtrain_tensor.requires_grad_(True)\n",
    "\n",
    "train_dataloader = DataLoader(Xtrain_tensor, batch_size=batch_size, shuffle=True)\n",
    "\n",
    "# Test Dataset\n",
    "X_test = np.linspace(0, 1, N_test, dtype=np.float32).reshape((N_test, 1))\n",
    "Xtest_tensor = torch.from_numpy(X_test).reshape(len(X_test), 1).to(device)"
   ]
  },
  {
   "cell_type": "code",
   "execution_count": 6,
   "metadata": {},
   "outputs": [],
   "source": [
    "# Loss function and Optimizer definition\n",
    "criterion = nn.MSELoss()\n",
    "optimizer = optim.Adam(model.parameters(), lr=initial_learn_rate)\n",
    "scheduler = ConstantLR(optimizer, 0.5)"
   ]
  },
  {
   "cell_type": "code",
   "execution_count": 7,
   "metadata": {},
   "outputs": [
    {
     "name": "stdout",
     "output_type": "stream",
     "text": [
      "Epoch 10 | Loss: 1.1017248546486371\n",
      "Epoch 20 | Loss: 0.371911554199869\n"
     ]
    }
   ],
   "source": [
    "# Training Loop\n",
    "for epoch in range(1, num_epochs + 1):\n",
    "    epoch_loss = 0.0\n",
    "    for batch in train_dataloader:\n",
    "        # Forward pass\n",
    "        y = model(batch)\n",
    "\n",
    "        # Calculate the derivative of the forward pass w.r.t the batch input (x)\n",
    "        dy = torch.autograd.grad(y,\n",
    "                                batch,\n",
    "                                grad_outputs=torch.ones_like(y),\n",
    "                                retain_graph=True)[0]\n",
    "        \n",
    "        # Define differential equation and calculate the loss\n",
    "        loss_DE = dy + 2 * y * batch\n",
    "\n",
    "        # Define the initial condition loss\n",
    "        loss_IC = model(torch.tensor([[0.0]]).to(device)) - 1\n",
    "\n",
    "        loss = criterion(loss_DE, torch.zeros(batch_size, 1).to(device) + ic_coeff * criterion(loss_IC, torch.zeros(1, 1).to(device)))\n",
    "\n",
    "        # Backward pass and weight update\n",
    "        optimizer.zero_grad()\n",
    "        loss.backward()\n",
    "        optimizer.step()\n",
    "\n",
    "        # Updates the loss per batch\n",
    "        epoch_loss += loss.item()\n",
    "    \n",
    "    if (epoch % 10 == 0):\n",
    "        print(f\"Epoch {epoch} | Loss: {epoch_loss}\")"
   ]
  },
  {
   "cell_type": "code",
   "execution_count": 8,
   "metadata": {},
   "outputs": [],
   "source": [
    "# Once the model is trained, we perform predictions through the test data\n",
    "preds = []\n",
    "with torch.no_grad():\n",
    "    for input in Xtest_tensor:\n",
    "        outputs = model(input)\n",
    "        preds.append(outputs.cpu().detach().numpy()[0])"
   ]
  },
  {
   "cell_type": "code",
   "execution_count": 10,
   "metadata": {},
   "outputs": [
    {
     "data": {
      "image/png": "[encoded data removed]",
      "text/plain": [
       "<Figure size 640x480 with 1 Axes>"
      ]
     },
     "metadata": {},
     "output_type": "display_data"
    }
   ],
   "source": [
    "x = np.linspace(a, b, num=N_test, dtype=np.int32)\n",
    "y_analytical = [np.exp(-math.pow(x/N_test, 2)) for x in range(1, N_test+1)]\n",
    "\n",
    "plt.plot(x, preds, \"tab:orange\", label=\"NN Solution\")\n",
    "plt.plot(x, y_analytical, \"b\", label=\"Analytical Solution\")\n",
    "plt.legend(loc=\"upper left\")\n",
    "plt.grid()\n",
    "plt.show()"
   ]
  }
 ],
 "metadata": {
  "kernelspec": {
   "display_name": "llnl",
   "language": "python",
   "name": "python3"
  },
  "language_info": {
   "codemirror_mode": {
    "name": "ipython",
    "version": 3
   },
   "file_extension": ".py",
   "mimetype": "text/x-python",
   "name": "python",
   "nbconvert_exporter": "python",
   "pygments_lexer": "ipython3",
   "version": "3.12.4"
  }
 },
 "nbformat": 4,
 "nbformat_minor": 2
}
