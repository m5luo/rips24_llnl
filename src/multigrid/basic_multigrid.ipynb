{
 "cells": [
  {
   "cell_type": "markdown",
   "metadata": {},
   "source": [
    "## Basic Multigrid Algorithm\n",
    "*July 5th, 2024*"
   ]
  },
  {
   "cell_type": "code",
   "execution_count": 1,
   "metadata": {},
   "outputs": [],
   "source": [
    "import numpy as np\n",
    "import numpy.linalg as LA"
   ]
  },
  {
   "cell_type": "code",
   "execution_count": 2,
   "metadata": {},
   "outputs": [],
   "source": [
    "def make_multigrid_v_cycle_1d_iter(A, f, Ns: list[int], relax):\n",
    "    \"\"\"\n",
    "    Ns: List of subgrid panel counts (nodes = panels + 1) from high to small\n",
    "    \"\"\"\n",
    "    Ns = iter(Ns)\n",
    "\n",
    "    def make_restriction(m, n):\n",
    "        \"\"\"\n",
    "        Example: \n",
    "        m = 6\n",
    "        n = 2\n",
    "        [1 0 0 0 0 0 0]\n",
    "        [0 0 0 1 0 0 0]\n",
    "        [0 0 0 0 0 0 1]\n",
    "        \"\"\"\n",
    "        k = m // n\n",
    "        stencil = np.zeros(k)\n",
    "        stencil[0] = 1\n",
    "        rows = [np.pad(stencil, (k * i, m - k * i), 'constant') for i in range(n + 1)]\n",
    "        A = np.vstack(rows)\n",
    "        \n",
    "        return A[:,:m+1]\n",
    "\n",
    "    def make_interpolation(m, n):\n",
    "        \"\"\"\n",
    "        Example: \n",
    "        m = 6\n",
    "        n = 2\n",
    "        [1 2/3 1/3 0 0 0 0]T\n",
    "        [0 1/3 2/3 1 0 0 0]\n",
    "        [0 0 0 0 0 0 1]\n",
    "        \"\"\"\n",
    "        k = m // n\n",
    "        stencil = np.fromfunction(lambda i: np.array((1 - i / k, i / k)), shape = [k])\n",
    "        R = np.zeros((n + 1, m + 1))\n",
    "        for i in range(n):\n",
    "            R[i:i+2, k * i:k*(i+1)] = stencil\n",
    "        R[-1,-1] = 1\n",
    "        return np.transpose(R)\n",
    "\n",
    "    def v_cycle(A, u, b):\n",
    "        # relax, restrict, v-cycle, interpolate and add, relax\n",
    "        u = relax(A, u, b)\n",
    "        r = b - np.matmul(A, u)\n",
    "        next_size = next(Ns, -1)\n",
    "        if next_size > 0:\n",
    "            m = np.shape(b)[0] - 1\n",
    "            R = make_restriction(m, next_size)\n",
    "            P = make_interpolation(m, next_size)\n",
    "            # print(np.shape(R), np.shape(A), np.shape(P))\n",
    "            Ar = np.matmul(np.matmul(R, A), P)\n",
    "            rr = np.matmul(R, r)\n",
    "            er = v_cycle(Ar, np.zeros(next_size + 1), rr)\n",
    "            e = np.matmul(P, er)\n",
    "            u = u + e\n",
    "            relax(A, u, b)\n",
    "        return u\n",
    "    \n",
    "    return lambda u: v_cycle(A, u, f)\n",
    "        "
   ]
  },
  {
   "cell_type": "code",
   "execution_count": 11,
   "metadata": {},
   "outputs": [
    {
     "name": "stdout",
     "output_type": "stream",
     "text": [
      "1st V-Cycle:\n",
      "[0.06581086 0.05126668 0.0367225  0.02217832 0.02118726 0.02019619\n",
      " 0.01920513 0.0203547  0.02150427 0.02265385 0.02380342 0.02495299\n",
      " 0.02610256 0.02495299 0.02380342 0.02265385 0.02150427 0.0203547\n",
      " 0.01920513 0.02019619 0.02118726 0.02217832 0.0367225  0.05126668\n",
      " 0.06581086]\n",
      "\n",
      "2nd V-Cycle:\n",
      "[0.00658109 0.00512667 0.00367225 0.00221783 0.00211873 0.00201962\n",
      " 0.00192051 0.00203547 0.00215043 0.00226538 0.00238034 0.0024953\n",
      " 0.00261026 0.0024953  0.00238034 0.00226538 0.00215043 0.00203547\n",
      " 0.00192051 0.00201962 0.00211873 0.00221783 0.00367225 0.00512667\n",
      " 0.00658109]\n"
     ]
    }
   ],
   "source": [
    "N = 25\n",
    "A = np.diag(np.full(N, 10.)) + np.diag(np.full(N - 1, -1), -1) + np.diag(np.full(N - 1, -1), 1) \n",
    "b = np.zeros(25)\n",
    "\n",
    "def gauss_jacobi_iter(A: np.array, b: np.array, x0: np.array, weight = 1):\n",
    "    D = np.diag(np.diag(A))\n",
    "    M = D\n",
    "    prev = x0\n",
    "    curr = prev + weight * np.matmul(LA.inv(M), b - np.matmul(A, prev))\n",
    "    return curr\n",
    "\n",
    "multigrid_v_cycle = make_multigrid_v_cycle_1d_iter(A, b, [8, 4], gauss_jacobi_iter)\n"
   ]
  },
  {
   "cell_type": "code",
   "execution_count": null,
   "metadata": {},
   "outputs": [],
   "source": [
    "u0 = np.ones(25)\n",
    "u1 = multigrid_v_cycle(u0)\n",
    "u2 = multigrid_v_cycle(u1)\n",
    "print(f\"1st V-Cycle:\\n{u1}\\n\\n2nd V-Cycle:\\n{u2}\")"
   ]
  },
  {
   "cell_type": "code",
   "execution_count": 13,
   "metadata": {},
   "outputs": [
    {
     "name": "stdout",
     "output_type": "stream",
     "text": [
      "[0.02 0.03 0.04 0.04 0.04 0.04 0.04 0.04 0.04 0.04 0.04 0.04 0.04 0.04\n",
      " 0.04 0.04 0.04 0.04 0.04 0.04 0.04 0.04 0.04 0.03 0.02]\n"
     ]
    }
   ],
   "source": [
    "prev = u0\n",
    "for _ in range(0, 2):\n",
    "    u_gj = gauss_jacobi_iter(A, b, prev)\n",
    "    prev = u_gj\n",
    "    \n",
    "print(u_gj)"
   ]
  }
 ],
 "metadata": {
  "kernelspec": {
   "display_name": "llnl",
   "language": "python",
   "name": "python3"
  },
  "language_info": {
   "codemirror_mode": {
    "name": "ipython",
    "version": 3
   },
   "file_extension": ".py",
   "mimetype": "text/x-python",
   "name": "python",
   "nbconvert_exporter": "python",
   "pygments_lexer": "ipython3",
   "version": "3.12.4"
  }
 },
 "nbformat": 4,
 "nbformat_minor": 2
}
